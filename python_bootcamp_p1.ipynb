{
 "cells": [
  {
   "cell_type": "markdown",
   "id": "eaac4446-3ff5-481a-9ee8-12e5b5cb169f",
   "metadata": {},
   "source": [
    "# CCM Python bootcamp part1\n",
    "\n",
    "This part 1 of our bootcamp will focus on introducing python. We will not be looking into 3rd party packages but instead we will have a more thorough look into how to use python. \n",
    "\n",
    "The oranization of our boot camp is as follows:\n",
    "\n",
    "+ Variables\n",
    "+ Basic data types and associated methods\n",
    "+ List, Dictionaries, Sets, Tuples\n",
    "+ Loops, iteration, comprehension\n",
    "+ logical statements\n",
    "+ functions, generators, decorators\n",
    "+ exception handling\n",
    "+ quick introduction to OOP (object oriented programming)\n",
    "+ class inheritance"
   ]
  },
  {
   "cell_type": "markdown",
   "id": "d84bd5a9-adef-48f8-a59f-4b6b17776627",
   "metadata": {},
   "source": [
    "## Variables\n",
    "\n",
    "everything that's stored in a python session is stores in memory as a variable. "
   ]
  },
  {
   "cell_type": "code",
   "execution_count": 1,
   "id": "c8921298-d7a5-499e-9e9a-2daa9e97786c",
   "metadata": {
    "tags": []
   },
   "outputs": [],
   "source": [
    "# lines starting with # symbol are ignored, they are called comments, they are useful for communicating what you are thinking "
   ]
  },
  {
   "cell_type": "code",
   "execution_count": 2,
   "id": "976cc817-774e-4e4f-bbf2-c5ca281266d5",
   "metadata": {
    "tags": []
   },
   "outputs": [
    {
     "data": {
      "text/plain": [
       "5"
      ]
     },
     "execution_count": 2,
     "metadata": {},
     "output_type": "execute_result"
    }
   ],
   "source": [
    "5 #not stored"
   ]
  },
  {
   "cell_type": "code",
   "execution_count": 3,
   "id": "4596d7c1-6e57-460c-bcdd-d6d9c4ef2a47",
   "metadata": {},
   "outputs": [
    {
     "data": {
      "text/plain": [
       "14"
      ]
     },
     "execution_count": 3,
     "metadata": {},
     "output_type": "execute_result"
    }
   ],
   "source": [
    "6 + 8 # not stored"
   ]
  },
  {
   "cell_type": "code",
   "execution_count": 4,
   "id": "7e272f44-7b86-4b29-b539-5fe78a1a043f",
   "metadata": {
    "tags": []
   },
   "outputs": [
    {
     "data": {
      "text/plain": [
       "5"
      ]
     },
     "execution_count": 4,
     "metadata": {},
     "output_type": "execute_result"
    }
   ],
   "source": [
    "a=5 #stored\n",
    "a"
   ]
  },
  {
   "cell_type": "code",
   "execution_count": 5,
   "id": "abcd3917-7912-4d8c-b60f-0639cf5c575d",
   "metadata": {
    "tags": []
   },
   "outputs": [
    {
     "data": {
      "text/plain": [
       "6"
      ]
     },
     "execution_count": 5,
     "metadata": {},
     "output_type": "execute_result"
    }
   ],
   "source": [
    "a=6\n",
    "a"
   ]
  },
  {
   "cell_type": "code",
   "execution_count": 6,
   "id": "37c19531-f9d4-4954-9fe9-cc0c0bf9958c",
   "metadata": {
    "tags": []
   },
   "outputs": [],
   "source": [
    "b=a"
   ]
  },
  {
   "cell_type": "code",
   "execution_count": 7,
   "id": "7b0276c3-4d90-48f4-91f0-13cb881e8498",
   "metadata": {
    "tags": []
   },
   "outputs": [
    {
     "data": {
      "text/plain": [
       "6"
      ]
     },
     "execution_count": 7,
     "metadata": {},
     "output_type": "execute_result"
    }
   ],
   "source": [
    "a=7\n",
    "b # the value of a does not get transferred, the copy stays the same"
   ]
  },
  {
   "cell_type": "markdown",
   "id": "962a3c90-458c-4302-b7f1-de9e6b5e69e5",
   "metadata": {},
   "source": [
    "## Basic data types\n",
    "\n",
    "There are 5 basic data types these are:\n",
    "\n",
    "+ `None`\n",
    "+ Int\n",
    "+ Float\n",
    "+ Complex\n",
    "+ String\n",
    "+ Bool\n",
    "\n",
    "some of these have associated methods\n",
    "\n",
    "### None"
   ]
  },
  {
   "cell_type": "code",
   "execution_count": 8,
   "id": "e99ecde8-25af-4b81-abe7-048fcbd79627",
   "metadata": {
    "tags": []
   },
   "outputs": [
    {
     "data": {
      "text/plain": [
       "NoneType"
      ]
     },
     "execution_count": 8,
     "metadata": {},
     "output_type": "execute_result"
    }
   ],
   "source": [
    "a=None\n",
    "type(a) #type function gives you the type of thing a variable is"
   ]
  },
  {
   "cell_type": "markdown",
   "id": "0a69d4c5-30bc-4a7f-97d1-835f204e1ee2",
   "metadata": {},
   "source": [
    "### Numbers"
   ]
  },
  {
   "cell_type": "code",
   "execution_count": 9,
   "id": "d7b21f35-039b-4e13-a279-4fa1523dfc5c",
   "metadata": {
    "tags": []
   },
   "outputs": [
    {
     "data": {
      "text/plain": [
       "int"
      ]
     },
     "execution_count": 9,
     "metadata": {},
     "output_type": "execute_result"
    }
   ],
   "source": [
    "type(1)"
   ]
  },
  {
   "cell_type": "code",
   "execution_count": 10,
   "id": "eefbf330-12cb-40ad-b553-14d8d373cb0b",
   "metadata": {
    "tags": []
   },
   "outputs": [
    {
     "data": {
      "text/plain": [
       "float"
      ]
     },
     "execution_count": 10,
     "metadata": {},
     "output_type": "execute_result"
    }
   ],
   "source": [
    "type(1.0)"
   ]
  },
  {
   "cell_type": "code",
   "execution_count": 11,
   "id": "3ea73500-1d76-4e06-96f4-73dbcd2b0126",
   "metadata": {
    "tags": []
   },
   "outputs": [
    {
     "data": {
      "text/plain": [
       "complex"
      ]
     },
     "execution_count": 11,
     "metadata": {},
     "output_type": "execute_result"
    }
   ],
   "source": [
    "type(6j)"
   ]
  },
  {
   "cell_type": "code",
   "execution_count": 12,
   "id": "346a09ce-f974-4e3d-b7f0-26f46d0901d7",
   "metadata": {
    "tags": []
   },
   "outputs": [
    {
     "data": {
      "text/plain": [
       "(-1+6j)"
      ]
     },
     "execution_count": 12,
     "metadata": {},
     "output_type": "execute_result"
    }
   ],
   "source": [
    "6j-1"
   ]
  },
  {
   "cell_type": "code",
   "execution_count": 13,
   "id": "0e607f45-8270-4c88-bbbe-0cb88017a81c",
   "metadata": {
    "tags": []
   },
   "outputs": [
    {
     "data": {
      "text/plain": [
       "17.7"
      ]
     },
     "execution_count": 13,
     "metadata": {},
     "output_type": "execute_result"
    }
   ],
   "source": [
    "8+9.7 # you don't have to worry about converting fifferent number types to one another"
   ]
  },
  {
   "cell_type": "code",
   "execution_count": 14,
   "id": "4fc87278-2afa-4a6f-9782-d2d5f7e49cc7",
   "metadata": {
    "tags": []
   },
   "outputs": [
    {
     "data": {
      "text/plain": [
       "False"
      ]
     },
     "execution_count": 14,
     "metadata": {},
     "output_type": "execute_result"
    }
   ],
   "source": [
    "6>7 #some comparisons, >, >= <, <= (less than or equal to)"
   ]
  },
  {
   "cell_type": "code",
   "execution_count": 15,
   "id": "bdd6ef3e-c89e-4c93-bb69-c9df7d371908",
   "metadata": {
    "tags": []
   },
   "outputs": [
    {
     "data": {
      "text/plain": [
       "True"
      ]
     },
     "execution_count": 15,
     "metadata": {},
     "output_type": "execute_result"
    }
   ],
   "source": [
    "7>=7"
   ]
  },
  {
   "cell_type": "code",
   "execution_count": 16,
   "id": "1f408d31-8272-4c6b-8db3-93edc0c48235",
   "metadata": {
    "tags": []
   },
   "outputs": [
    {
     "data": {
      "text/plain": [
       "False"
      ]
     },
     "execution_count": 16,
     "metadata": {},
     "output_type": "execute_result"
    }
   ],
   "source": [
    "a=7\n",
    "b=6\n",
    "\n",
    "a==b #== is equal"
   ]
  },
  {
   "cell_type": "code",
   "execution_count": 17,
   "id": "ffcbc03f-a657-4a75-923d-32d3068f726c",
   "metadata": {
    "tags": []
   },
   "outputs": [
    {
     "data": {
      "text/plain": [
       "True"
      ]
     },
     "execution_count": 17,
     "metadata": {},
     "output_type": "execute_result"
    }
   ],
   "source": [
    "a!=b # not equal"
   ]
  },
  {
   "cell_type": "code",
   "execution_count": 18,
   "id": "07cc1fc2-bcc0-40bb-b244-3a967d3ac6ac",
   "metadata": {
    "tags": []
   },
   "outputs": [
    {
     "data": {
      "text/plain": [
       "1.6666666666666667"
      ]
     },
     "execution_count": 18,
     "metadata": {},
     "output_type": "execute_result"
    }
   ],
   "source": [
    "5/3"
   ]
  },
  {
   "cell_type": "code",
   "execution_count": 19,
   "id": "d018387d-a3a9-40f9-938f-60bdf062023b",
   "metadata": {
    "tags": []
   },
   "outputs": [
    {
     "data": {
      "text/plain": [
       "2"
      ]
     },
     "execution_count": 19,
     "metadata": {},
     "output_type": "execute_result"
    }
   ],
   "source": [
    "5%3 #remainder"
   ]
  },
  {
   "cell_type": "markdown",
   "id": "60c123f5-d88c-47c0-813b-028f774bd346",
   "metadata": {},
   "source": [
    "### Strings"
   ]
  },
  {
   "cell_type": "code",
   "execution_count": 20,
   "id": "60e5d2c1-dad3-46f4-9308-debf92c9c8ec",
   "metadata": {
    "tags": []
   },
   "outputs": [
    {
     "data": {
      "text/plain": [
       "True"
      ]
     },
     "execution_count": 20,
     "metadata": {},
     "output_type": "execute_result"
    }
   ],
   "source": [
    "a='some text'\n",
    "b=\"some text\"\n",
    "a==b #comparing texts"
   ]
  },
  {
   "cell_type": "code",
   "execution_count": 21,
   "id": "214906f2-210a-4204-b5e1-b4be76513922",
   "metadata": {
    "tags": []
   },
   "outputs": [
    {
     "ename": "SyntaxError",
     "evalue": "unterminated string literal (detected at line 6) (3604554619.py, line 6)",
     "output_type": "error",
     "traceback": [
      "\u001b[0;36m  Cell \u001b[0;32mIn[21], line 6\u001b[0;36m\u001b[0m\n\u001b[0;31m    \"this text contains a single quote(\\')'\u001b[0m\n\u001b[0m    ^\u001b[0m\n\u001b[0;31mSyntaxError\u001b[0m\u001b[0;31m:\u001b[0m unterminated string literal (detected at line 6)\n"
     ]
    }
   ],
   "source": [
    "\"this text contains a single quote (')\" \n",
    "\n",
    "'this text contains a single quote (\\')'\n",
    "\n",
    "# you need to end with the quote type you started\n",
    "\"this text contains a single quote(\\')' "
   ]
  },
  {
   "cell_type": "code",
   "execution_count": 22,
   "id": "9684e5fb-323d-46ea-b89c-5235f4710efb",
   "metadata": {
    "tags": []
   },
   "outputs": [
    {
     "data": {
      "text/plain": [
       "True"
      ]
     },
     "execution_count": 22,
     "metadata": {},
     "output_type": "execute_result"
    }
   ],
   "source": [
    "#there are associated methods wtih strings too\n",
    "a=\"file.txt\"\n",
    "a.endswith(\"txt\")"
   ]
  },
  {
   "cell_type": "code",
   "execution_count": 23,
   "id": "2ce43d0f-b6af-4183-b819-11175f59a26f",
   "metadata": {
    "tags": []
   },
   "outputs": [
    {
     "data": {
      "text/plain": [
       "'File.Txt'"
      ]
     },
     "execution_count": 23,
     "metadata": {},
     "output_type": "execute_result"
    }
   ],
   "source": [
    "a.title()"
   ]
  },
  {
   "cell_type": "code",
   "execution_count": 24,
   "id": "de8cfef0-a795-4ed2-b581-53d9b66015cd",
   "metadata": {
    "tags": []
   },
   "outputs": [
    {
     "data": {
      "text/plain": [
       "'file.csv'"
      ]
     },
     "execution_count": 24,
     "metadata": {},
     "output_type": "execute_result"
    }
   ],
   "source": [
    "a.replace(\"txt\", \"csv\")"
   ]
  },
  {
   "cell_type": "code",
   "execution_count": 25,
   "id": "201c315d-115d-4e3a-9faf-08722984bc3f",
   "metadata": {
    "tags": []
   },
   "outputs": [
    {
     "data": {
      "text/plain": [
       "['__add__',\n",
       " '__class__',\n",
       " '__contains__',\n",
       " '__delattr__',\n",
       " '__dir__',\n",
       " '__doc__',\n",
       " '__eq__',\n",
       " '__format__',\n",
       " '__ge__',\n",
       " '__getattribute__',\n",
       " '__getitem__',\n",
       " '__getnewargs__',\n",
       " '__gt__',\n",
       " '__hash__',\n",
       " '__init__',\n",
       " '__init_subclass__',\n",
       " '__iter__',\n",
       " '__le__',\n",
       " '__len__',\n",
       " '__lt__',\n",
       " '__mod__',\n",
       " '__mul__',\n",
       " '__ne__',\n",
       " '__new__',\n",
       " '__reduce__',\n",
       " '__reduce_ex__',\n",
       " '__repr__',\n",
       " '__rmod__',\n",
       " '__rmul__',\n",
       " '__setattr__',\n",
       " '__sizeof__',\n",
       " '__str__',\n",
       " '__subclasshook__',\n",
       " 'capitalize',\n",
       " 'casefold',\n",
       " 'center',\n",
       " 'count',\n",
       " 'encode',\n",
       " 'endswith',\n",
       " 'expandtabs',\n",
       " 'find',\n",
       " 'format',\n",
       " 'format_map',\n",
       " 'index',\n",
       " 'isalnum',\n",
       " 'isalpha',\n",
       " 'isascii',\n",
       " 'isdecimal',\n",
       " 'isdigit',\n",
       " 'isidentifier',\n",
       " 'islower',\n",
       " 'isnumeric',\n",
       " 'isprintable',\n",
       " 'isspace',\n",
       " 'istitle',\n",
       " 'isupper',\n",
       " 'join',\n",
       " 'ljust',\n",
       " 'lower',\n",
       " 'lstrip',\n",
       " 'maketrans',\n",
       " 'partition',\n",
       " 'removeprefix',\n",
       " 'removesuffix',\n",
       " 'replace',\n",
       " 'rfind',\n",
       " 'rindex',\n",
       " 'rjust',\n",
       " 'rpartition',\n",
       " 'rsplit',\n",
       " 'rstrip',\n",
       " 'split',\n",
       " 'splitlines',\n",
       " 'startswith',\n",
       " 'strip',\n",
       " 'swapcase',\n",
       " 'title',\n",
       " 'translate',\n",
       " 'upper',\n",
       " 'zfill']"
      ]
     },
     "execution_count": 25,
     "metadata": {},
     "output_type": "execute_result"
    }
   ],
   "source": [
    "dir(a) #this applies to all python objects you can see their methods using the (dir) command\""
   ]
  },
  {
   "cell_type": "markdown",
   "id": "174a0cd2-fee7-4cd7-b2b9-fb589d7c6032",
   "metadata": {
    "tags": []
   },
   "source": [
    "### Bool\n",
    "\n",
    "Booleans are `True ` and `False` We have already seen them"
   ]
  },
  {
   "cell_type": "code",
   "execution_count": 26,
   "id": "0bbf1862-3a2c-4766-8c1d-9172715a9345",
   "metadata": {
    "tags": []
   },
   "outputs": [
    {
     "ename": "TypeError",
     "evalue": "can only concatenate str (not \"int\") to str",
     "output_type": "error",
     "traceback": [
      "\u001b[0;31m---------------------------------------------------------------------------\u001b[0m",
      "\u001b[0;31mTypeError\u001b[0m                                 Traceback (most recent call last)",
      "Cell \u001b[0;32mIn[26], line 1\u001b[0m\n\u001b[0;32m----> 1\u001b[0m \u001b[38;5;124;43m\"\u001b[39;49m\u001b[38;5;124;43ma\u001b[39;49m\u001b[38;5;124;43m\"\u001b[39;49m\u001b[38;5;241;43m+\u001b[39;49m\u001b[38;5;241;43m1\u001b[39;49m \u001b[38;5;66;03m#You cannot mixt and match strings and numbers\u001b[39;00m\n",
      "\u001b[0;31mTypeError\u001b[0m: can only concatenate str (not \"int\") to str"
     ]
    }
   ],
   "source": [
    "\"a\"+1 #You cannot mixt and match strings and numbers"
   ]
  },
  {
   "cell_type": "code",
   "execution_count": 27,
   "id": "8b4abfed-96cc-431c-b67d-9b7485466c7e",
   "metadata": {
    "tags": []
   },
   "outputs": [
    {
     "data": {
      "text/plain": [
       "2.7"
      ]
     },
     "execution_count": 27,
     "metadata": {},
     "output_type": "execute_result"
    }
   ],
   "source": [
    "True+1.7 #but you can mix and match bools and numbers"
   ]
  },
  {
   "cell_type": "markdown",
   "id": "190aec4b-dc78-401c-8167-32c81bcea8dd",
   "metadata": {},
   "source": [
    "## Data types that contain multiple values\n",
    "\n",
    "### Lists\n",
    "\n",
    "These are **ordered* collection of values, they do not have to be the same kind of value, they can be nested, lists are defined by using square brackets [] "
   ]
  },
  {
   "cell_type": "code",
   "execution_count": 28,
   "id": "f447e59b-5086-4c48-a405-05f5a970f1aa",
   "metadata": {
    "tags": []
   },
   "outputs": [
    {
     "data": {
      "text/plain": [
       "[1, 2, 'a', [1, 2, 'b']]"
      ]
     },
     "execution_count": 28,
     "metadata": {},
     "output_type": "execute_result"
    }
   ],
   "source": [
    "a=[1,2,\"a\", [1,2,\"b\"]]\n",
    "a"
   ]
  },
  {
   "cell_type": "code",
   "execution_count": 29,
   "id": "5c25cf28-0307-42f3-9b34-3bf3261a6b88",
   "metadata": {
    "tags": []
   },
   "outputs": [
    {
     "data": {
      "text/plain": [
       "'b'"
      ]
     },
     "execution_count": 29,
     "metadata": {},
     "output_type": "execute_result"
    }
   ],
   "source": [
    "# getting elements from a list\n",
    "\n",
    "a=[0,1,2,3,4,5,6,\"b\",8]\n",
    "a[7]"
   ]
  },
  {
   "cell_type": "code",
   "execution_count": 30,
   "id": "cd8e5169-888c-4d5f-a666-e709e1133b83",
   "metadata": {
    "tags": []
   },
   "outputs": [
    {
     "data": {
      "text/plain": [
       "[0, 1, 2, 3, 4, 5, 6]"
      ]
     },
     "execution_count": 30,
     "metadata": {},
     "output_type": "execute_result"
    }
   ],
   "source": [
    "a[0:7] # 0 to 7 not including 7"
   ]
  },
  {
   "cell_type": "code",
   "execution_count": 31,
   "id": "80c8f984-4c29-4778-a446-8575ed2c3e54",
   "metadata": {
    "tags": []
   },
   "outputs": [
    {
     "data": {
      "text/plain": [
       "['b', 8]"
      ]
     },
     "execution_count": 31,
     "metadata": {},
     "output_type": "execute_result"
    }
   ],
   "source": [
    "a[7:] #from 7 to the end"
   ]
  },
  {
   "cell_type": "code",
   "execution_count": 32,
   "id": "fad2a13e-0428-4437-aec3-8c83c09e88b9",
   "metadata": {
    "tags": []
   },
   "outputs": [
    {
     "data": {
      "text/plain": [
       "[0, 1, 2, 3, 4]"
      ]
     },
     "execution_count": 32,
     "metadata": {},
     "output_type": "execute_result"
    }
   ],
   "source": [
    "a[:-4] #get all the way to 4th last"
   ]
  },
  {
   "cell_type": "code",
   "execution_count": 33,
   "id": "42640c3e-0fa2-4472-9885-61d03858d34b",
   "metadata": {
    "tags": []
   },
   "outputs": [
    {
     "data": {
      "text/plain": [
       "[1, 2, 3, 4, 5, 6]"
      ]
     },
     "execution_count": 33,
     "metadata": {},
     "output_type": "execute_result"
    }
   ],
   "source": [
    "[1,2,3]+[4,5,6]"
   ]
  },
  {
   "cell_type": "code",
   "execution_count": 34,
   "id": "2cf73b49-e816-4353-a545-e4ccde90e325",
   "metadata": {
    "tags": []
   },
   "outputs": [
    {
     "data": {
      "text/plain": [
       "[0, 1, 2, 3, 4, 5, 6, 'b', 8, 9]"
      ]
     },
     "execution_count": 34,
     "metadata": {},
     "output_type": "execute_result"
    }
   ],
   "source": [
    "a.append(9)\n",
    "a"
   ]
  },
  {
   "cell_type": "code",
   "execution_count": 35,
   "id": "f63a885b-3163-4e25-b69a-9174235a5cf3",
   "metadata": {
    "tags": []
   },
   "outputs": [
    {
     "data": {
      "text/plain": [
       "[0, 1, 2, 3, 4, 5, 6, 'b', 8]"
      ]
     },
     "execution_count": 35,
     "metadata": {},
     "output_type": "execute_result"
    }
   ],
   "source": [
    "b=a.pop() #return last element and remove it from the list\n",
    "a"
   ]
  },
  {
   "cell_type": "code",
   "execution_count": 36,
   "id": "d4382f56-93df-48fb-8755-a0406147e019",
   "metadata": {
    "tags": []
   },
   "outputs": [
    {
     "data": {
      "text/plain": [
       "['__add__',\n",
       " '__class__',\n",
       " '__class_getitem__',\n",
       " '__contains__',\n",
       " '__delattr__',\n",
       " '__delitem__',\n",
       " '__dir__',\n",
       " '__doc__',\n",
       " '__eq__',\n",
       " '__format__',\n",
       " '__ge__',\n",
       " '__getattribute__',\n",
       " '__getitem__',\n",
       " '__gt__',\n",
       " '__hash__',\n",
       " '__iadd__',\n",
       " '__imul__',\n",
       " '__init__',\n",
       " '__init_subclass__',\n",
       " '__iter__',\n",
       " '__le__',\n",
       " '__len__',\n",
       " '__lt__',\n",
       " '__mul__',\n",
       " '__ne__',\n",
       " '__new__',\n",
       " '__reduce__',\n",
       " '__reduce_ex__',\n",
       " '__repr__',\n",
       " '__reversed__',\n",
       " '__rmul__',\n",
       " '__setattr__',\n",
       " '__setitem__',\n",
       " '__sizeof__',\n",
       " '__str__',\n",
       " '__subclasshook__',\n",
       " 'append',\n",
       " 'clear',\n",
       " 'copy',\n",
       " 'count',\n",
       " 'extend',\n",
       " 'index',\n",
       " 'insert',\n",
       " 'pop',\n",
       " 'remove',\n",
       " 'reverse',\n",
       " 'sort']"
      ]
     },
     "execution_count": 36,
     "metadata": {},
     "output_type": "execute_result"
    }
   ],
   "source": [
    "dir(a) # there are many list methods"
   ]
  },
  {
   "cell_type": "markdown",
   "id": "abc00b89-c96f-4e90-87f4-284183c1166b",
   "metadata": {},
   "source": [
    "### Dictionaries\n",
    "\n",
    "This is a key value store, since pyton 3.5 the values are stored in the order they are created but you **SHOULD NOT** rely on this. Instead you should use the keys to obtain the values. "
   ]
  },
  {
   "cell_type": "code",
   "execution_count": 37,
   "id": "d55b9358-e641-4a70-b0e2-d4eecd8a3ea9",
   "metadata": {
    "tags": []
   },
   "outputs": [
    {
     "data": {
      "text/plain": [
       "1"
      ]
     },
     "execution_count": 37,
     "metadata": {},
     "output_type": "execute_result"
    }
   ],
   "source": [
    "a={\"a\":1, \"b\":2}\n",
    "a[\"a\"] #getting a value"
   ]
  },
  {
   "cell_type": "code",
   "execution_count": 38,
   "id": "760ad499-24b0-43b4-9ea3-df524092da35",
   "metadata": {
    "tags": []
   },
   "outputs": [
    {
     "data": {
      "text/plain": [
       "4"
      ]
     },
     "execution_count": 38,
     "metadata": {},
     "output_type": "execute_result"
    }
   ],
   "source": [
    "a[\"a\"]=4 #setting a value\n",
    "a[\"a\"]"
   ]
  },
  {
   "cell_type": "code",
   "execution_count": 39,
   "id": "09d146c0-387a-4697-aa1d-ac9ccd99060b",
   "metadata": {
    "tags": []
   },
   "outputs": [
    {
     "data": {
      "text/plain": [
       "{'a': 4, 'b': 2, 'c': 3}"
      ]
     },
     "execution_count": 39,
     "metadata": {},
     "output_type": "execute_result"
    }
   ],
   "source": [
    "a[\"c\"]=3 #adding a new elemenet\n",
    "a"
   ]
  },
  {
   "cell_type": "code",
   "execution_count": 40,
   "id": "95dbe777-7828-4d56-81d5-b3d54b0eb0cd",
   "metadata": {
    "tags": []
   },
   "outputs": [
    {
     "data": {
      "text/plain": [
       "{'a': 4, 'b': 2, 'c': [1, 2, 3, 4]}"
      ]
     },
     "execution_count": 40,
     "metadata": {},
     "output_type": "execute_result"
    }
   ],
   "source": [
    "a[\"c\"]=[1,2,3,4] # you can put whatever you want\n",
    "a"
   ]
  },
  {
   "cell_type": "markdown",
   "id": "65f6eada-9e7c-4683-8a83-22e7b9e0fbb6",
   "metadata": {},
   "source": [
    "### Tuples\n",
    "\n",
    "They are similar to lists but you cannot change them"
   ]
  },
  {
   "cell_type": "code",
   "execution_count": 41,
   "id": "a02db47d-0be1-4015-9033-ec79590fa302",
   "metadata": {
    "tags": []
   },
   "outputs": [
    {
     "data": {
      "text/plain": [
       "1"
      ]
     },
     "execution_count": 41,
     "metadata": {},
     "output_type": "execute_result"
    }
   ],
   "source": [
    "a=(1,2,3,4)\n",
    "a[0]"
   ]
  },
  {
   "cell_type": "code",
   "execution_count": 42,
   "id": "ce82fa4b-6952-43f8-8c99-74927b886049",
   "metadata": {
    "tags": []
   },
   "outputs": [
    {
     "ename": "TypeError",
     "evalue": "'tuple' object does not support item assignment",
     "output_type": "error",
     "traceback": [
      "\u001b[0;31m---------------------------------------------------------------------------\u001b[0m",
      "\u001b[0;31mTypeError\u001b[0m                                 Traceback (most recent call last)",
      "Cell \u001b[0;32mIn[42], line 1\u001b[0m\n\u001b[0;32m----> 1\u001b[0m \u001b[43ma\u001b[49m\u001b[43m[\u001b[49m\u001b[38;5;241;43m0\u001b[39;49m\u001b[43m]\u001b[49m\u001b[38;5;241m=\u001b[39m\u001b[38;5;241m3\u001b[39m\n",
      "\u001b[0;31mTypeError\u001b[0m: 'tuple' object does not support item assignment"
     ]
    }
   ],
   "source": [
    "a[0]=3"
   ]
  },
  {
   "cell_type": "code",
   "execution_count": 43,
   "id": "f4a821b8-ad95-4774-ac72-3c9d3286a389",
   "metadata": {
    "tags": []
   },
   "outputs": [
    {
     "data": {
      "text/plain": [
       "[1, 2, 3]"
      ]
     },
     "execution_count": 43,
     "metadata": {},
     "output_type": "execute_result"
    }
   ],
   "source": [
    "a=(1,2,[1,2,3]) # but you can change lists\n",
    "a[2]"
   ]
  },
  {
   "cell_type": "code",
   "execution_count": 44,
   "id": "442503a7-a57c-45f9-91ff-16e15fa21c50",
   "metadata": {
    "tags": []
   },
   "outputs": [
    {
     "data": {
      "text/plain": [
       "(1, 2, ['a', 2, 3])"
      ]
     },
     "execution_count": 44,
     "metadata": {},
     "output_type": "execute_result"
    }
   ],
   "source": [
    "a[2][0]=\"a\"\n",
    "a"
   ]
  },
  {
   "cell_type": "markdown",
   "id": "5074bb1b-e36a-4925-b693-64d668e6b2cd",
   "metadata": {},
   "source": [
    "### Sets\n",
    "\n",
    "These contain unique items, no duplicates"
   ]
  },
  {
   "cell_type": "code",
   "execution_count": 45,
   "id": "adb3052a-25f9-4bdf-a15d-96b599f7303e",
   "metadata": {
    "tags": []
   },
   "outputs": [
    {
     "data": {
      "text/plain": [
       "{1, 2, 3, 4, 5}"
      ]
     },
     "execution_count": 45,
     "metadata": {},
     "output_type": "execute_result"
    }
   ],
   "source": [
    "a=set([1,1,2,3,4,4,4,5])\n",
    "a"
   ]
  },
  {
   "cell_type": "code",
   "execution_count": 46,
   "id": "727ddd40-63d8-494c-b779-a52993913043",
   "metadata": {
    "tags": []
   },
   "outputs": [
    {
     "ename": "TypeError",
     "evalue": "'set' object is not subscriptable",
     "output_type": "error",
     "traceback": [
      "\u001b[0;31m---------------------------------------------------------------------------\u001b[0m",
      "\u001b[0;31mTypeError\u001b[0m                                 Traceback (most recent call last)",
      "Cell \u001b[0;32mIn[46], line 1\u001b[0m\n\u001b[0;32m----> 1\u001b[0m \u001b[43ma\u001b[49m\u001b[43m[\u001b[49m\u001b[38;5;241;43m0\u001b[39;49m\u001b[43m]\u001b[49m \u001b[38;5;66;03m# cannot access individual values\u001b[39;00m\n",
      "\u001b[0;31mTypeError\u001b[0m: 'set' object is not subscriptable"
     ]
    }
   ],
   "source": [
    "a[0] # cannot access individual values"
   ]
  },
  {
   "cell_type": "code",
   "execution_count": 47,
   "id": "46f3acb3-4827-43d9-8768-5900f59a2c0f",
   "metadata": {
    "tags": []
   },
   "outputs": [
    {
     "data": {
      "text/plain": [
       "[1, 2, 3, 4, 5]"
      ]
     },
     "execution_count": 47,
     "metadata": {},
     "output_type": "execute_result"
    }
   ],
   "source": [
    "list(a) # but can convert it to a list"
   ]
  },
  {
   "cell_type": "markdown",
   "id": "755d850f-ec11-49da-aa02-6a7f46d6b0be",
   "metadata": {},
   "source": [
    "## Loops, iteration\n",
    "\n",
    "What if we want to do something to every item on a list, or go over the values of a dictionary one by one and change them, this is called iteration\n",
    "\n",
    "### for loops\n",
    "\n",
    "These loops continue until they reach the end of a container (this can be anything that allows for accessing individual elements)\n",
    "\n",
    "### for loops for a list"
   ]
  },
  {
   "cell_type": "code",
   "execution_count": 48,
   "id": "26d7542b-8a26-44db-aabb-704c81f8c05b",
   "metadata": {
    "tags": []
   },
   "outputs": [],
   "source": [
    "a=[1,2,3,4,5]"
   ]
  },
  {
   "cell_type": "code",
   "execution_count": 49,
   "id": "221d46d7-79bb-4475-955e-12b77be7c657",
   "metadata": {
    "tags": []
   },
   "outputs": [
    {
     "name": "stdout",
     "output_type": "stream",
     "text": [
      "1\n",
      "2\n",
      "3\n",
      "4\n",
      "5\n"
     ]
    }
   ],
   "source": [
    "for item in a: \n",
    "    print(item) # python usese whitespace to separate different chunks of code the inside chunk is one tab to the right"
   ]
  },
  {
   "cell_type": "code",
   "execution_count": 50,
   "id": "3269b849-654b-44d1-9a3f-32d423cf80cb",
   "metadata": {
    "tags": []
   },
   "outputs": [
    {
     "data": {
      "text/plain": [
       "[[1, 2, 3, 9], [4, 5, 6]]"
      ]
     },
     "execution_count": 50,
     "metadata": {},
     "output_type": "execute_result"
    }
   ],
   "source": [
    "a=[1,2,3, 9]\n",
    "b=[4,5,6]\n",
    "c=[a,b] #list of list\n",
    "c"
   ]
  },
  {
   "cell_type": "code",
   "execution_count": 51,
   "id": "6734febe-a44e-402c-b8c1-879221956227",
   "metadata": {
    "tags": []
   },
   "outputs": [
    {
     "name": "stdout",
     "output_type": "stream",
     "text": [
      "1\n",
      "2\n",
      "3\n",
      "9\n",
      "4\n",
      "5\n",
      "6\n"
     ]
    }
   ],
   "source": [
    "for apple in c: #go over the list of lists 2 items the list [1,2,3,9] and [4,5,6]\n",
    "    for item2 in apple: # go over one of the lists inside the list of lists\n",
    "        print(item2)"
   ]
  },
  {
   "cell_type": "markdown",
   "id": "132c1026-8d6b-4e58-b4a3-03d3ca852852",
   "metadata": {},
   "source": [
    "Sometimes we want to run the loop n times, there is a helpful iterator (see below) called `range` that we can use. Range takes 3 arguments, the end number starting number and step. "
   ]
  },
  {
   "cell_type": "code",
   "execution_count": 52,
   "id": "de0aff4d-1de2-4a48-a14a-6ea8b3104da7",
   "metadata": {
    "tags": []
   },
   "outputs": [
    {
     "name": "stdout",
     "output_type": "stream",
     "text": [
      "0\n",
      "1\n",
      "2\n",
      "3\n",
      "4\n",
      "5\n"
     ]
    }
   ],
   "source": [
    "for i in range(6): #only end at 6-1\n",
    "    print(i)"
   ]
  },
  {
   "cell_type": "code",
   "execution_count": 53,
   "id": "b0bd7430-1c5e-4869-85a7-93b1c7c59776",
   "metadata": {
    "tags": []
   },
   "outputs": [
    {
     "name": "stdout",
     "output_type": "stream",
     "text": [
      "4\n",
      "5\n"
     ]
    }
   ],
   "source": [
    "for i in range(4, 6): #start from 4 end at 6-1\n",
    "    print(i)"
   ]
  },
  {
   "cell_type": "code",
   "execution_count": 54,
   "id": "b577ecaf-3adf-4589-8f8a-0928def89105",
   "metadata": {
    "tags": []
   },
   "outputs": [
    {
     "name": "stdout",
     "output_type": "stream",
     "text": [
      "1\n",
      "3\n",
      "5\n",
      "7\n",
      "9\n"
     ]
    }
   ],
   "source": [
    "for i in range(1, 11, 2): #start from 1, end at 11-1 with increment2\n",
    "    print(i)"
   ]
  },
  {
   "cell_type": "markdown",
   "id": "c9d58249-3a85-47fe-a4a9-6cb50750890e",
   "metadata": {},
   "source": [
    "We can use this to iterate over a list by using indexing if you have multiple lists that are the same length this can be useful. "
   ]
  },
  {
   "cell_type": "code",
   "execution_count": 55,
   "id": "174c4664-5e8c-4f7c-9e84-931740b5ff39",
   "metadata": {
    "tags": []
   },
   "outputs": [
    {
     "name": "stdout",
     "output_type": "stream",
     "text": [
      "1\n",
      "2\n",
      "3\n"
     ]
    }
   ],
   "source": [
    "a=[1,2,3]\n",
    "for i in range(len(a)): #nested functions are ok, len is the length of a\n",
    "    print(a[i])"
   ]
  },
  {
   "cell_type": "markdown",
   "id": "ace130e3-7f9b-41bc-8ed3-8bba6e4ed757",
   "metadata": {},
   "source": [
    "**zip**\n",
    "there is another way to iterate over lists you can use the zip function to combine multiple lists and iterate them"
   ]
  },
  {
   "cell_type": "code",
   "execution_count": 56,
   "id": "c0471296-747b-4a82-90e7-5d7fa752f19a",
   "metadata": {
    "tags": []
   },
   "outputs": [
    {
     "name": "stdout",
     "output_type": "stream",
     "text": [
      "1 a\n",
      "2 b\n",
      "3 c\n"
     ]
    }
   ],
   "source": [
    "a=[1,2,3]\n",
    "b=[\"a\", \"b\", \"c\"]\n",
    "\n",
    "for item1, item2 in zip(a,b):\n",
    "    print(item1, item2)"
   ]
  },
  {
   "cell_type": "markdown",
   "id": "70337e20-ebc5-4f85-9a2d-9872379cf5f9",
   "metadata": {},
   "source": [
    "#### list comprehension\n",
    "Sometimes we are lazy and we dont want to write an explicit for loop that spans multiple lines, if what we are doing is very basic we can use list comprehension"
   ]
  },
  {
   "cell_type": "code",
   "execution_count": 57,
   "id": "0fab9fc7-da11-48f8-b9b4-950675a8efa3",
   "metadata": {
    "tags": []
   },
   "outputs": [
    {
     "data": {
      "text/plain": [
       "[0, 1, 4, 9, 16]"
      ]
     },
     "execution_count": 57,
     "metadata": {},
     "output_type": "execute_result"
    }
   ],
   "source": [
    "[i**2 for i in range(5)] # ** is power so 2**3 is 8"
   ]
  },
  {
   "cell_type": "markdown",
   "id": "3ef3f70a-bdb1-4b75-8f5c-0d1417317c18",
   "metadata": {},
   "source": [
    "### Iterating over a dictionary\n",
    "\n",
    "We cannot rely on orders when we are using a dict, so instead we will do key:value lookups"
   ]
  },
  {
   "cell_type": "code",
   "execution_count": 58,
   "id": "ede57c09-0542-496f-8854-64d1e20c84cc",
   "metadata": {
    "tags": []
   },
   "outputs": [
    {
     "data": {
      "text/plain": [
       "{'a': 'value', 'b': 'value', 'c': 'value'}"
      ]
     },
     "execution_count": 58,
     "metadata": {},
     "output_type": "execute_result"
    }
   ],
   "source": [
    "a={\"a\":1, \"b\":2, \"c\":3}\n",
    "\n",
    "for key in a.keys():\n",
    "    a[key]=\"value\"\n",
    "    \n",
    "a"
   ]
  },
  {
   "cell_type": "markdown",
   "id": "948d812a-cd0a-4cc6-9c64-a9943e30b88a",
   "metadata": {},
   "source": [
    "## While loops\n",
    "\n",
    "for loops repeat the process until the end of someething, while loops continue until a condition is met. If you do now know when things will be done a while loop is the way to go, but you can create infinite loops so be careful"
   ]
  },
  {
   "cell_type": "code",
   "execution_count": 59,
   "id": "edd39be4-18fd-4aa8-84b5-16c0bff3d805",
   "metadata": {
    "tags": []
   },
   "outputs": [
    {
     "name": "stdout",
     "output_type": "stream",
     "text": [
      "running\n",
      "running\n",
      "running\n",
      "running\n",
      "running\n"
     ]
    }
   ],
   "source": [
    "i=0\n",
    "\n",
    "while i < 5:\n",
    "    print(\"running\")\n",
    "    i=i+1 # same as i=i+1"
   ]
  },
  {
   "cell_type": "code",
   "execution_count": 60,
   "id": "3c857cd7-2718-4d07-8ba1-29d5aa7d9305",
   "metadata": {
    "tags": []
   },
   "outputs": [
    {
     "name": "stdout",
     "output_type": "stream",
     "text": [
      "running\n",
      "running\n",
      "running\n",
      "running\n",
      "running\n",
      "done\n"
     ]
    }
   ],
   "source": [
    "i=0\n",
    "\n",
    "while i < 5:\n",
    "    print(\"running\")\n",
    "    i+=1 # same as i=i+1\n",
    "else: #last step\n",
    "    print(\"done\")"
   ]
  },
  {
   "cell_type": "markdown",
   "id": "2b79412a-5a79-4805-9c62-e1bc5b2b20a0",
   "metadata": {},
   "source": [
    "## Logic, if else statements\n",
    "\n",
    "We usually want to see if a condition is met, based on that we can decide what to do with our data for that we can use if else statements"
   ]
  },
  {
   "cell_type": "code",
   "execution_count": 61,
   "id": "993c376a-a170-424f-884d-cf7a4ef81062",
   "metadata": {
    "tags": []
   },
   "outputs": [
    {
     "name": "stdout",
     "output_type": "stream",
     "text": [
      "b is bigger\n"
     ]
    }
   ],
   "source": [
    "a=5\n",
    "b=7\n",
    "\n",
    "if a>b:\n",
    "    print(\"a is bigger\")\n",
    "elif a<b: #else if\n",
    "    print(\"b is bigger\")\n",
    "else:\n",
    "    print(\"they are equal\") \n",
    "    "
   ]
  },
  {
   "cell_type": "code",
   "execution_count": 62,
   "id": "aece4ab7-a88f-4377-bbb3-d786f13df48d",
   "metadata": {},
   "outputs": [
    {
     "data": {
      "text/plain": [
       "False"
      ]
     },
     "execution_count": 62,
     "metadata": {},
     "output_type": "execute_result"
    }
   ],
   "source": [
    "a=5\n",
    "type(a)==str"
   ]
  },
  {
   "cell_type": "markdown",
   "id": "eb4261b4-1db7-4e12-92bd-5ee7fb40793f",
   "metadata": {},
   "source": [
    "What if we want to check for multiple conditions"
   ]
  },
  {
   "cell_type": "code",
   "execution_count": 63,
   "id": "e4da10b7-df77-474c-935b-e8b0942dbb59",
   "metadata": {
    "tags": []
   },
   "outputs": [
    {
     "name": "stdout",
     "output_type": "stream",
     "text": [
      "a is small\n"
     ]
    }
   ],
   "source": [
    "a=5\n",
    "\n",
    "# usually either way is fine, but if you are comparing  if something is or is not use is\n",
    "# if you are comparing actual equaliy (or inequality) use theh appropriate method\n",
    "if type(a)== int or a<5:\n",
    "    print(\"a is small\")\n",
    "elif type(a)==int and a >= 5:\n",
    "    print(\"a is big\")\n",
    "elif type(a)!=int:\n",
    "    print(\"a is not an integer\")\n",
    "    "
   ]
  },
  {
   "cell_type": "code",
   "execution_count": 64,
   "id": "28d1c105-8726-4232-9695-db4b84d13632",
   "metadata": {
    "tags": []
   },
   "outputs": [
    {
     "name": "stdout",
     "output_type": "stream",
     "text": [
      "a is not a string\n"
     ]
    }
   ],
   "source": [
    "# check for the negative of something\n",
    "\n",
    "if type(a) is not str:\n",
    "    print(\"a is not a string\")\n",
    "else:\n",
    "    print(\"a is a string\")"
   ]
  },
  {
   "cell_type": "markdown",
   "id": "57275479-ea30-47fd-9769-f29b52529800",
   "metadata": {},
   "source": [
    "We can combine this with a loop:\n",
    "\n",
    "**Practice** fizzbuzz\n",
    "\n",
    "for numbers 1, 20\n",
    "if number is divisible by 3 print \"fizz\"\n",
    "if number if divisible by 5 print \"buzz\"\n",
    "if number is divisiblbe by both print \"fizzbuzz\"\n",
    "otherwise print the number\n",
    "\n",
    "Hint: The order of if statements matter, % is the remainder operation 5%3 is 2"
   ]
  },
  {
   "cell_type": "code",
   "execution_count": 65,
   "id": "5f39429b-9555-487f-b1d4-af6b22de4f71",
   "metadata": {},
   "outputs": [
    {
     "name": "stdout",
     "output_type": "stream",
     "text": [
      "1\n",
      "2\n",
      "fizz\n",
      "4\n",
      "buzz\n",
      "fizz\n",
      "7\n",
      "8\n",
      "fizz\n",
      "buzz\n",
      "11\n",
      "fizz\n",
      "13\n",
      "14\n",
      "fizzbuzz\n",
      "16\n",
      "17\n",
      "fizz\n",
      "19\n",
      "buzz\n"
     ]
    }
   ],
   "source": [
    "for i in range(1, 21):\n",
    "    if i%3==0 and i%5==0:\n",
    "        print(\"fizzbuzz\")\n",
    "    elif i%3==0:\n",
    "        print(\"fizz\")\n",
    "    elif i%5==0:\n",
    "        print(\"buzz\")\n",
    "    else:\n",
    "        print(i)"
   ]
  },
  {
   "cell_type": "markdown",
   "id": "771fd460-5774-488a-95ca-926b13df1a5c",
   "metadata": {},
   "source": [
    "### Getting out of a loop or not proceessing things\n",
    "\n",
    "Sometimes when a condition is met we might want to stop the iteration or we might not want to do anything with that value. "
   ]
  },
  {
   "cell_type": "code",
   "execution_count": 66,
   "id": "7a8fd440-591c-4890-86f4-47917fa31663",
   "metadata": {},
   "outputs": [
    {
     "name": "stdout",
     "output_type": "stream",
     "text": [
      "1\n",
      "8\n",
      "64\n",
      "125\n",
      "343\n",
      "512\n",
      "1000\n"
     ]
    }
   ],
   "source": [
    "# do not process if divisible by 3 and stop after 10\n",
    "\n",
    "for i in range(100):\n",
    "    if i > 10:\n",
    "        break #stop iteration\n",
    "    elif i%3==0:\n",
    "        continue\n",
    "    else:\n",
    "        print(i**3)"
   ]
  },
  {
   "cell_type": "code",
   "execution_count": 67,
   "id": "f3ba2479-fbd0-43b8-9bb1-3c25aa7ba38c",
   "metadata": {},
   "outputs": [
    {
     "name": "stdout",
     "output_type": "stream",
     "text": [
      "1\n",
      "2\n",
      "4\n",
      "5\n"
     ]
    }
   ],
   "source": [
    "# break only works for that loop\n",
    "a=[1,2,3]\n",
    "b=[4,5,6]\n",
    "c=[a,b]\n",
    "\n",
    "for i in c:\n",
    "    for j in i:\n",
    "        if j%3==0:\n",
    "            break # this only stops the inner loop\n",
    "        else:\n",
    "            print(j)\n",
    "    "
   ]
  },
  {
   "cell_type": "markdown",
   "id": "600142bc-1e39-4aa3-ae67-f867a743a4a7",
   "metadata": {},
   "source": [
    "## Functions\n",
    "\n",
    "sometimes we want to perform an operation many times, it's tedious to write the same thing over and over again, so we save the operation in a function and then use it as many times as we want"
   ]
  },
  {
   "cell_type": "code",
   "execution_count": 68,
   "id": "2e24155b-0f3a-4671-8c0b-853dba5f433a",
   "metadata": {
    "tags": []
   },
   "outputs": [
    {
     "data": {
      "text/plain": [
       "5"
      ]
     },
     "execution_count": 68,
     "metadata": {},
     "output_type": "execute_result"
    }
   ],
   "source": [
    "def simple_add(number1, number2):\n",
    "    result=number1+number2\n",
    "    return result\n",
    "\n",
    "a=simple_add(2,3)\n",
    "a"
   ]
  },
  {
   "cell_type": "code",
   "execution_count": 69,
   "id": "fb6c0691-405f-4721-a898-c02161215cb5",
   "metadata": {
    "tags": []
   },
   "outputs": [
    {
     "name": "stdout",
     "output_type": "stream",
     "text": [
      "0\n",
      "2\n",
      "4\n",
      "6\n",
      "8\n"
     ]
    }
   ],
   "source": [
    "for i in range(5): # you can call a function many times\n",
    "    print(simple_add(i, i))"
   ]
  },
  {
   "cell_type": "code",
   "execution_count": 70,
   "id": "5ecda007-3dab-459a-9c74-5bf065fde4e2",
   "metadata": {},
   "outputs": [
    {
     "ename": "NameError",
     "evalue": "name 'result' is not defined",
     "output_type": "error",
     "traceback": [
      "\u001b[0;31m---------------------------------------------------------------------------\u001b[0m",
      "\u001b[0;31mNameError\u001b[0m                                 Traceback (most recent call last)",
      "Cell \u001b[0;32mIn[70], line 1\u001b[0m\n\u001b[0;32m----> 1\u001b[0m \u001b[43mresult\u001b[49m\n",
      "\u001b[0;31mNameError\u001b[0m: name 'result' is not defined"
     ]
    }
   ],
   "source": [
    "result"
   ]
  },
  {
   "cell_type": "markdown",
   "id": "66a2140b-fd65-490c-991b-1acff1305213",
   "metadata": {},
   "source": [
    "Within the function you can use loops, if else statements, even other functions"
   ]
  },
  {
   "cell_type": "code",
   "execution_count": 71,
   "id": "dc252109-1f2b-44e2-a16a-0da373a28f0a",
   "metadata": {
    "tags": []
   },
   "outputs": [
    {
     "data": {
      "text/plain": [
       "13"
      ]
     },
     "execution_count": 71,
     "metadata": {},
     "output_type": "execute_result"
    }
   ],
   "source": [
    "def not_so_simple_add(number1, number2=5): #number 2 is 5 by default\n",
    "    if number1<5:\n",
    "        return \"too small\" #program ends here this is usually bad practice\n",
    "    elif number1>10:\n",
    "        return \"too big\"\n",
    "    else:\n",
    "        return number1+number2\n",
    "    \n",
    "# all the same\n",
    "not_so_simple_add(number2=6, number1=7) #note the order of parameters is different than above\n",
    "not_so_simple_add(7,6) "
   ]
  },
  {
   "cell_type": "code",
   "execution_count": 72,
   "id": "a9a7b78f-eb68-47f8-85c1-d7a8cba5e272",
   "metadata": {
    "tags": []
   },
   "outputs": [
    {
     "ename": "TypeError",
     "evalue": "'<' not supported between instances of 'str' and 'int'",
     "output_type": "error",
     "traceback": [
      "\u001b[0;31m---------------------------------------------------------------------------\u001b[0m",
      "\u001b[0;31mTypeError\u001b[0m                                 Traceback (most recent call last)",
      "Cell \u001b[0;32mIn[72], line 2\u001b[0m\n\u001b[1;32m      1\u001b[0m \u001b[38;5;66;03m# python does not check types for you\u001b[39;00m\n\u001b[0;32m----> 2\u001b[0m \u001b[43mnot_so_simple_add\u001b[49m\u001b[43m(\u001b[49m\u001b[38;5;124;43m\"\u001b[39;49m\u001b[38;5;124;43ma\u001b[39;49m\u001b[38;5;124;43m\"\u001b[39;49m\u001b[43m,\u001b[49m\u001b[43m \u001b[49m\u001b[38;5;241;43m6\u001b[39;49m\u001b[43m)\u001b[49m\n",
      "Cell \u001b[0;32mIn[71], line 2\u001b[0m, in \u001b[0;36mnot_so_simple_add\u001b[0;34m(number1, number2)\u001b[0m\n\u001b[1;32m      1\u001b[0m \u001b[38;5;28;01mdef\u001b[39;00m \u001b[38;5;21mnot_so_simple_add\u001b[39m(number1, number2\u001b[38;5;241m=\u001b[39m\u001b[38;5;241m5\u001b[39m): \u001b[38;5;66;03m#number 2 is 5 by default\u001b[39;00m\n\u001b[0;32m----> 2\u001b[0m     \u001b[38;5;28;01mif\u001b[39;00m \u001b[43mnumber1\u001b[49m\u001b[38;5;241;43m<\u001b[39;49m\u001b[38;5;241;43m5\u001b[39;49m:\n\u001b[1;32m      3\u001b[0m         \u001b[38;5;28;01mreturn\u001b[39;00m \u001b[38;5;124m\"\u001b[39m\u001b[38;5;124mtoo small\u001b[39m\u001b[38;5;124m\"\u001b[39m \u001b[38;5;66;03m#program ends here this is usually bad practice\u001b[39;00m\n\u001b[1;32m      4\u001b[0m     \u001b[38;5;28;01melif\u001b[39;00m number1\u001b[38;5;241m>\u001b[39m\u001b[38;5;241m10\u001b[39m:\n",
      "\u001b[0;31mTypeError\u001b[0m: '<' not supported between instances of 'str' and 'int'"
     ]
    }
   ],
   "source": [
    "# python does not check types for you\n",
    "not_so_simple_add(\"a\", 6)"
   ]
  },
  {
   "cell_type": "markdown",
   "id": "1ef827a8-cc42-4f42-aade-bc21b04a814f",
   "metadata": {},
   "source": [
    "The variables defined by the parameters of the function are only accessible from within the function. This is called scope. It allows you to contain your variables within a function or class (see below). If the variable is not found in the function then python looks at the a higher scope until it reaches `global` scope this is all the variables (the ones you defined and the ones already defined by python and other modules). This is generally bad practice. "
   ]
  },
  {
   "cell_type": "markdown",
   "id": "097fdb8e-d4a3-495f-a668-93aff1ed3657",
   "metadata": {},
   "source": [
    "**`global`**, you can move a variable that is contained within the function to the global scope using the `global` keyword, there are **VERY** few reasons to do this. Do not do this. "
   ]
  },
  {
   "cell_type": "markdown",
   "id": "2e2fc56a-e782-4eb7-b278-35dca9558ce1",
   "metadata": {},
   "source": [
    "### Guided example rock, paper, scissors\n",
    "\n",
    "We are going to write a function that plays rock paper scissors. Our function will have 2 parameters, move and outcome, for example if we choose rock as move and lose as outcome the function will return paper. We will write and rewrite this function multiple times. "
   ]
  },
  {
   "cell_type": "code",
   "execution_count": 73,
   "id": "ca3be56b-7f4d-468a-808c-c71fa9419d7e",
   "metadata": {},
   "outputs": [
    {
     "ename": "SyntaxError",
     "evalue": "incomplete input (690416711.py, line 1)",
     "output_type": "error",
     "traceback": [
      "\u001b[0;36m  Cell \u001b[0;32mIn[73], line 1\u001b[0;36m\u001b[0m\n\u001b[0;31m    def rps(move=\"rock\", outcome=\"win\"):\u001b[0m\n\u001b[0m                                        ^\u001b[0m\n\u001b[0;31mSyntaxError\u001b[0m\u001b[0;31m:\u001b[0m incomplete input\n"
     ]
    }
   ],
   "source": [
    "def rps(move=\"rock\", outcome=\"win\"):"
   ]
  },
  {
   "cell_type": "code",
   "execution_count": 74,
   "id": "95dba3ce-1d6b-4d7a-b7dc-b52c66a3fb3a",
   "metadata": {},
   "outputs": [
    {
     "data": {
      "text/plain": [
       "'rock'"
      ]
     },
     "execution_count": 74,
     "metadata": {},
     "output_type": "execute_result"
    }
   ],
   "source": [
    "# simple if else\n",
    "def rps(move, outcome):\n",
    "    if move==\"rock\" and outcome==\"win\":\n",
    "        result=\"scissors\"\n",
    "    elif move==\"rock\" and outcome==\"draw\":\n",
    "        result=\"rock\"\n",
    "    elif move==\"rock\" and outcome==\"lose\":\n",
    "        result=\"paper\"\n",
    "    elif move==\"scissors\" and outcome==\"win\":\n",
    "        result=\"scissors\"\n",
    "    elif move==\"scissors\" and outcome==\"lose\":\n",
    "        result=\"rock\"\n",
    "    elif move==\"scissors\" and outcome==\"win\":\n",
    "        result=\"paper\"\n",
    "    elif move==\"paper\" and outcome==\"lose\":\n",
    "        result=\"scissors\"\n",
    "    elif move==\"paper\" and outcome==\"win\":\n",
    "        result=\"rock\"\n",
    "    else:\n",
    "        result=\"paper\"\n",
    "    return result\n",
    "        \n",
    "rps(\"paper\", \"win\")"
   ]
  },
  {
   "cell_type": "code",
   "execution_count": 75,
   "id": "efc41841-ab6f-4928-a65d-309a0ff9a2de",
   "metadata": {},
   "outputs": [
    {
     "data": {
      "text/plain": [
       "'rock'"
      ]
     },
     "execution_count": 75,
     "metadata": {},
     "output_type": "execute_result"
    }
   ],
   "source": [
    "# using a dict\n",
    "plays={\"rock\":{\"win\":\"scissors\", \"draw\":\"rock\", \"lose\":\"paper\"},\n",
    "      \"paper\":{\"win\":\"rock\", \"draw\":\"paper\", \"lose\":\"scissors\"},\n",
    "      \"scissors\":{\"win\":\"paper\", \"draw\":\"scissors\", \"lose\":\"rock\"}\n",
    "      }\n",
    "          \n",
    "def rps(move, outcome, plays):\n",
    "       return plays[move][outcome]\n",
    "       \n",
    "rps(\"paper\", \"win\", plays)"
   ]
  },
  {
   "cell_type": "markdown",
   "id": "1a8d0dec-4670-4838-9f82-e790c417766d",
   "metadata": {},
   "source": [
    "### Exceptions\n",
    "\n",
    "What if our move is not rock or paper or scissor but hammer, is that allowed?, currently there are not checks and balances for something like that. "
   ]
  },
  {
   "cell_type": "code",
   "execution_count": 76,
   "id": "cf5f7e4c-0156-4e53-a404-cf21bf509d72",
   "metadata": {
    "tags": []
   },
   "outputs": [
    {
     "ename": "ValueError",
     "evalue": "illegal move",
     "output_type": "error",
     "traceback": [
      "\u001b[0;31m---------------------------------------------------------------------------\u001b[0m",
      "\u001b[0;31mValueError\u001b[0m                                Traceback (most recent call last)",
      "Cell \u001b[0;32mIn[76], line 9\u001b[0m\n\u001b[1;32m      6\u001b[0m     \u001b[38;5;28;01melse\u001b[39;00m:\n\u001b[1;32m      7\u001b[0m         \u001b[38;5;28;01mreturn\u001b[39;00m plays[move][outcome]\n\u001b[0;32m----> 9\u001b[0m \u001b[43mrps\u001b[49m\u001b[43m(\u001b[49m\u001b[38;5;124;43m\"\u001b[39;49m\u001b[38;5;124;43mhammer\u001b[39;49m\u001b[38;5;124;43m\"\u001b[39;49m\u001b[43m,\u001b[49m\u001b[43m \u001b[49m\u001b[38;5;124;43m\"\u001b[39;49m\u001b[38;5;124;43mwin\u001b[39;49m\u001b[38;5;124;43m\"\u001b[39;49m\u001b[43m,\u001b[49m\u001b[43m \u001b[49m\u001b[43mplays\u001b[49m\u001b[43m)\u001b[49m\n",
      "Cell \u001b[0;32mIn[76], line 5\u001b[0m, in \u001b[0;36mrps\u001b[0;34m(move, outcome, plays)\u001b[0m\n\u001b[1;32m      3\u001b[0m \u001b[38;5;28;01mdef\u001b[39;00m \u001b[38;5;21mrps\u001b[39m(move, outcome, plays):\n\u001b[1;32m      4\u001b[0m     \u001b[38;5;28;01mif\u001b[39;00m move \u001b[38;5;129;01mnot\u001b[39;00m \u001b[38;5;129;01min\u001b[39;00m plays\u001b[38;5;241m.\u001b[39mkeys():\n\u001b[0;32m----> 5\u001b[0m         \u001b[38;5;28;01mraise\u001b[39;00m \u001b[38;5;167;01mValueError\u001b[39;00m(\u001b[38;5;124m\"\u001b[39m\u001b[38;5;124millegal move\u001b[39m\u001b[38;5;124m\"\u001b[39m) \u001b[38;5;66;03m#this is the exception\u001b[39;00m\n\u001b[1;32m      6\u001b[0m     \u001b[38;5;28;01melse\u001b[39;00m:\n\u001b[1;32m      7\u001b[0m         \u001b[38;5;28;01mreturn\u001b[39;00m plays[move][outcome]\n",
      "\u001b[0;31mValueError\u001b[0m: illegal move"
     ]
    }
   ],
   "source": [
    "# valuerror\n",
    "\n",
    "def rps(move, outcome, plays):\n",
    "    if move not in plays.keys():\n",
    "        raise ValueError(\"illegal move\") #this is the exception\n",
    "    else:\n",
    "        return plays[move][outcome]\n",
    "    \n",
    "rps(\"hammer\", \"win\", plays)"
   ]
  },
  {
   "cell_type": "code",
   "execution_count": 77,
   "id": "d31b646c-b7e1-4207-863b-d9050cf3055b",
   "metadata": {},
   "outputs": [
    {
     "ename": "IllegalMoveError",
     "evalue": "illegal move",
     "output_type": "error",
     "traceback": [
      "\u001b[0;31m---------------------------------------------------------------------------\u001b[0m",
      "\u001b[0;31mIllegalMoveError\u001b[0m                          Traceback (most recent call last)",
      "Cell \u001b[0;32mIn[77], line 11\u001b[0m\n\u001b[1;32m      8\u001b[0m     \u001b[38;5;28;01melse\u001b[39;00m:\n\u001b[1;32m      9\u001b[0m         \u001b[38;5;28;01mreturn\u001b[39;00m plays[move][outcome]\n\u001b[0;32m---> 11\u001b[0m \u001b[43mrps\u001b[49m\u001b[43m(\u001b[49m\u001b[38;5;124;43m\"\u001b[39;49m\u001b[38;5;124;43mhammer\u001b[39;49m\u001b[38;5;124;43m\"\u001b[39;49m\u001b[43m,\u001b[49m\u001b[43m \u001b[49m\u001b[38;5;124;43m\"\u001b[39;49m\u001b[38;5;124;43mwin\u001b[39;49m\u001b[38;5;124;43m\"\u001b[39;49m\u001b[43m,\u001b[49m\u001b[43m \u001b[49m\u001b[43mplays\u001b[49m\u001b[43m)\u001b[49m\n",
      "Cell \u001b[0;32mIn[77], line 7\u001b[0m, in \u001b[0;36mrps\u001b[0;34m(move, outcome, plays)\u001b[0m\n\u001b[1;32m      5\u001b[0m \u001b[38;5;28;01mdef\u001b[39;00m \u001b[38;5;21mrps\u001b[39m(move, outcome, plays):\n\u001b[1;32m      6\u001b[0m     \u001b[38;5;28;01mif\u001b[39;00m move \u001b[38;5;129;01mnot\u001b[39;00m \u001b[38;5;129;01min\u001b[39;00m plays\u001b[38;5;241m.\u001b[39mkeys():\n\u001b[0;32m----> 7\u001b[0m         \u001b[38;5;28;01mraise\u001b[39;00m IllegalMoveError(\u001b[38;5;124m\"\u001b[39m\u001b[38;5;124millegal move\u001b[39m\u001b[38;5;124m\"\u001b[39m)\n\u001b[1;32m      8\u001b[0m     \u001b[38;5;28;01melse\u001b[39;00m:\n\u001b[1;32m      9\u001b[0m         \u001b[38;5;28;01mreturn\u001b[39;00m plays[move][outcome]\n",
      "\u001b[0;31mIllegalMoveError\u001b[0m: illegal move"
     ]
    }
   ],
   "source": [
    "# custom exception\n",
    "class IllegalMoveError(Exception):\n",
    "    pass\n",
    "\n",
    "def rps(move, outcome, plays):\n",
    "    if move not in plays.keys():\n",
    "        raise IllegalMoveError(\"illegal move\")\n",
    "    else:\n",
    "        return plays[move][outcome]\n",
    "\n",
    "rps(\"hammer\", \"win\", plays)"
   ]
  },
  {
   "cell_type": "markdown",
   "id": "0ea661a4-9f0e-4273-a7d0-2a6f839e4887",
   "metadata": {},
   "source": [
    "Sometimes we don't want the function to stop but rather tell us that something went wrong and perform an action afterwards, that's why we have the `try`, `except`, `finally` structure, let's re-write rps using that"
   ]
  },
  {
   "cell_type": "code",
   "execution_count": 78,
   "id": "176f1833-4319-487c-b009-d63de78afb6d",
   "metadata": {},
   "outputs": [
    {
     "name": "stdout",
     "output_type": "stream",
     "text": [
      "no can do\n",
      "done playing\n"
     ]
    }
   ],
   "source": [
    "def rps(move, outcome, plays):\n",
    "    try:\n",
    "        return plays[move][outcome]\n",
    "    except:\n",
    "        print(\"no can do\")\n",
    "    finally:\n",
    "        print(\"done playing\") #this is always executed\n",
    "\n",
    "rps(\"hammer\", \"win\", plays)"
   ]
  },
  {
   "cell_type": "markdown",
   "id": "2847ac6b-1982-4bbf-8914-5b7e683c0225",
   "metadata": {},
   "source": [
    "#### `*args` and `**kwargs`\n",
    "\n",
    "We saw that our functions can take arguments to be used as variables inside the function, what if you did not know how many arguments you were going to get? `*args` let's you add as many things as you want and they are stored as a \"list\" inside the function for you to do things with. `**kwargs` are on the other hand are like a \"dict\" so you can access them with a keyword. "
   ]
  },
  {
   "cell_type": "code",
   "execution_count": 79,
   "id": "0cd3cd30-2648-42e9-aade-826d975dce91",
   "metadata": {},
   "outputs": [
    {
     "ename": "TypeError",
     "evalue": "simple_add() takes 2 positional arguments but 3 were given",
     "output_type": "error",
     "traceback": [
      "\u001b[0;31m---------------------------------------------------------------------------\u001b[0m",
      "\u001b[0;31mTypeError\u001b[0m                                 Traceback (most recent call last)",
      "Cell \u001b[0;32mIn[79], line 1\u001b[0m\n\u001b[0;32m----> 1\u001b[0m \u001b[43msimple_add\u001b[49m\u001b[43m(\u001b[49m\u001b[38;5;241;43m3\u001b[39;49m\u001b[43m,\u001b[49m\u001b[38;5;241;43m4\u001b[39;49m\u001b[43m,\u001b[49m\u001b[38;5;241;43m8\u001b[39;49m\u001b[43m)\u001b[49m \u001b[38;5;66;03m#don't know what to do with the third number\u001b[39;00m\n",
      "\u001b[0;31mTypeError\u001b[0m: simple_add() takes 2 positional arguments but 3 were given"
     ]
    }
   ],
   "source": [
    "simple_add(3,4,8) #don't know what to do with the third number"
   ]
  },
  {
   "cell_type": "code",
   "execution_count": 80,
   "id": "f58a724f-af98-46ae-af34-19faf20541d8",
   "metadata": {},
   "outputs": [
    {
     "ename": "NameError",
     "evalue": "name 'ilovepython' is not defined",
     "output_type": "error",
     "traceback": [
      "\u001b[0;31m---------------------------------------------------------------------------\u001b[0m",
      "\u001b[0;31mNameError\u001b[0m                                 Traceback (most recent call last)",
      "Cell \u001b[0;32mIn[80], line 7\u001b[0m\n\u001b[1;32m      4\u001b[0m         total\u001b[38;5;241m=\u001b[39mtotal\u001b[38;5;241m+\u001b[39mnum\n\u001b[1;32m      5\u001b[0m     \u001b[38;5;28;01mreturn\u001b[39;00m total\n\u001b[0;32m----> 7\u001b[0m a\u001b[38;5;241m=\u001b[39m\u001b[43madd_with_args\u001b[49m\u001b[43m(\u001b[49m\u001b[38;5;241;43m1\u001b[39;49m\u001b[43m,\u001b[49m\u001b[38;5;241;43m2\u001b[39;49m\u001b[43m,\u001b[49m\u001b[38;5;241;43m3\u001b[39;49m\u001b[43m,\u001b[49m\u001b[38;5;241;43m4\u001b[39;49m\u001b[43m)\u001b[49m\n\u001b[1;32m      8\u001b[0m a\n",
      "Cell \u001b[0;32mIn[80], line 3\u001b[0m, in \u001b[0;36madd_with_args\u001b[0;34m(*args)\u001b[0m\n\u001b[1;32m      1\u001b[0m \u001b[38;5;28;01mdef\u001b[39;00m \u001b[38;5;21madd_with_args\u001b[39m(\u001b[38;5;241m*\u001b[39margs):\n\u001b[1;32m      2\u001b[0m     total\u001b[38;5;241m=\u001b[39m\u001b[38;5;241m0\u001b[39m\n\u001b[0;32m----> 3\u001b[0m     \u001b[38;5;28;01mfor\u001b[39;00m num \u001b[38;5;129;01min\u001b[39;00m \u001b[43milovepython\u001b[49m:\n\u001b[1;32m      4\u001b[0m         total\u001b[38;5;241m=\u001b[39mtotal\u001b[38;5;241m+\u001b[39mnum\n\u001b[1;32m      5\u001b[0m     \u001b[38;5;28;01mreturn\u001b[39;00m total\n",
      "\u001b[0;31mNameError\u001b[0m: name 'ilovepython' is not defined"
     ]
    }
   ],
   "source": [
    "def add_with_args(*args):\n",
    "    total=0\n",
    "    for num in ilovepython:\n",
    "        total=total+num\n",
    "    return total\n",
    "\n",
    "a=add_with_args(1,2,3,4)\n",
    "a"
   ]
  },
  {
   "cell_type": "code",
   "execution_count": 81,
   "id": "0aa55184-1b3b-4bb4-8ebe-342a07a2e0fe",
   "metadata": {},
   "outputs": [
    {
     "name": "stdout",
     "output_type": "stream",
     "text": [
      "{'limit': 9, 'other_thing': 'not used'}\n"
     ]
    },
    {
     "data": {
      "text/plain": [
       "'this is too big'"
      ]
     },
     "execution_count": 81,
     "metadata": {},
     "output_type": "execute_result"
    }
   ],
   "source": [
    "def add_with_kwargs(*args, **kwargs):\n",
    "    print(kwargs)\n",
    "    total=0\n",
    "    for num in args:\n",
    "        total=total+num\n",
    "    if total>kwargs[\"limit\"]:\n",
    "        total=\"this is too big\"\n",
    "    return total\n",
    "\n",
    "a=add_with_kwargs(1,2,3,4, limit=9, other_thing=\"not used\")\n",
    "a"
   ]
  },
  {
   "cell_type": "markdown",
   "id": "e0614ec1-76ee-41ea-9c2f-0af8dabc8a79",
   "metadata": {},
   "source": [
    "### Generators\n",
    "\n",
    "Sometimes we want our function to do a little bit of the work return the result and wait for us to ask for more. These are called generators, they are functions that do things but instead of `return`ing things they `yield`. "
   ]
  },
  {
   "cell_type": "code",
   "execution_count": 82,
   "id": "1ff77b1b-1934-4416-8f4d-58d49577d297",
   "metadata": {},
   "outputs": [
    {
     "data": {
      "text/plain": [
       "<generator object square at 0x7ff8c5bffd80>"
      ]
     },
     "execution_count": 82,
     "metadata": {},
     "output_type": "execute_result"
    }
   ],
   "source": [
    "def square(numbers):\n",
    "    for number in numbers:\n",
    "        yield number**2\n",
    "        \n",
    "a=square(range(10))\n",
    "a"
   ]
  },
  {
   "cell_type": "code",
   "execution_count": 83,
   "id": "e5a83910-d8fe-4afd-9d08-a3c2fc74056f",
   "metadata": {},
   "outputs": [
    {
     "name": "stdout",
     "output_type": "stream",
     "text": [
      "0\n",
      "1\n",
      "4\n",
      "9\n",
      "16\n",
      "25\n",
      "36\n",
      "49\n",
      "64\n",
      "81\n"
     ]
    }
   ],
   "source": [
    "for sq in a:\n",
    "    print(sq)"
   ]
  },
  {
   "cell_type": "markdown",
   "id": "74cd5214-50a7-4114-bdc2-ac77066a8219",
   "metadata": {},
   "source": [
    "### Decorators\n",
    "\n",
    "Sometimes we want to edit the results of our functions, in some instances we can take the results as is and in other we want to perform a standard operation that we can perfom. For the second scenario we can use decorators, writing good decorators is an artform and I am not an artist. Decorators are functions that take a function as an argument and return a function as a result. The output function contains the functionality of the original but with some added things to it. "
   ]
  },
  {
   "cell_type": "code",
   "execution_count": 84,
   "id": "bb748b45-e1e1-4291-89c5-c4b66e5857c6",
   "metadata": {},
   "outputs": [
    {
     "data": {
      "text/plain": [
       "9"
      ]
     },
     "execution_count": 84,
     "metadata": {},
     "output_type": "execute_result"
    }
   ],
   "source": [
    "def add_2(number):\n",
    "    return number+2\n",
    "\n",
    "def square(func):\n",
    "    def squared_results(*args, **kwargs):\n",
    "        res=func(*args, **kwargs)\n",
    "        return res**2\n",
    "    return squared_results\n",
    "\n",
    "add_and_square=square(add_2)\n",
    "add_and_square(1)"
   ]
  },
  {
   "cell_type": "code",
   "execution_count": 85,
   "id": "6533c653-e552-4a59-8412-30c5c55cdd02",
   "metadata": {},
   "outputs": [
    {
     "data": {
      "text/plain": [
       "256"
      ]
     },
     "execution_count": 85,
     "metadata": {},
     "output_type": "execute_result"
    }
   ],
   "source": [
    "@square\n",
    "@square\n",
    "def add_3(number):\n",
    "    return number+3\n",
    "\n",
    "add_3(1)"
   ]
  },
  {
   "cell_type": "code",
   "execution_count": 86,
   "id": "f6e70b84-c7a5-48dd-9ccb-5c84a242f62d",
   "metadata": {},
   "outputs": [
    {
     "data": {
      "text/plain": [
       "64"
      ]
     },
     "execution_count": 86,
     "metadata": {},
     "output_type": "execute_result"
    }
   ],
   "source": [
    "# generate a decorator that takes arguments you need to wrap it again, \n",
    "\n",
    "def power(power):\n",
    "    def inner(func):\n",
    "        def inner2(*args, **kwargs):\n",
    "            return func(*args, **kwargs)**power        \n",
    "        return inner2\n",
    "    return inner\n",
    "\n",
    "@power(power=3)\n",
    "def add_3(number):\n",
    "    return number+3\n",
    "\n",
    "add_3(1)"
   ]
  },
  {
   "cell_type": "markdown",
   "id": "812d27bd-2ee8-45f7-aa04-65f1a638eea1",
   "metadata": {},
   "source": [
    "## Classes\n",
    "\n",
    "Sometimes we want to create a python object that can store data AND functions that will act on that data or other kinds of data. These are called python classes, they can store arbitrary number of things in them. There are some methods that are required for a class to function properly the main one is the initiation method (`__init__`). "
   ]
  },
  {
   "cell_type": "code",
   "execution_count": 87,
   "id": "41bb5f71-1ce6-40ab-ba8d-4d23e9d1ae22",
   "metadata": {},
   "outputs": [
    {
     "data": {
      "text/plain": [
       "['__class__',\n",
       " '__delattr__',\n",
       " '__dict__',\n",
       " '__dir__',\n",
       " '__doc__',\n",
       " '__eq__',\n",
       " '__format__',\n",
       " '__ge__',\n",
       " '__getattribute__',\n",
       " '__gt__',\n",
       " '__hash__',\n",
       " '__init__',\n",
       " '__init_subclass__',\n",
       " '__le__',\n",
       " '__lt__',\n",
       " '__module__',\n",
       " '__ne__',\n",
       " '__new__',\n",
       " '__reduce__',\n",
       " '__reduce_ex__',\n",
       " '__repr__',\n",
       " '__setattr__',\n",
       " '__sizeof__',\n",
       " '__str__',\n",
       " '__subclasshook__',\n",
       " '__weakref__',\n",
       " 'chrom',\n",
       " 'end',\n",
       " 'len',\n",
       " 'start',\n",
       " 'strand']"
      ]
     },
     "execution_count": 87,
     "metadata": {},
     "output_type": "execute_result"
    }
   ],
   "source": [
    "class GenomicRanges: #this is a class\n",
    "    def __init__(self, chrom, start, end, strand):\n",
    "        self.chrom=chrom\n",
    "        self.start=start\n",
    "        self.end=end\n",
    "        self.strand=strand\n",
    "        self.len=abs(start-end) #absolute value\n",
    "\n",
    "\n",
    "mygene=GenomicRanges(\"x\", 1000, 2000, \"+\") #this is a class instance, toyota corolla is a make and model of many cars, my toyoto corolla is one of them, all toyota corollas have the s\n",
    "# ame features but their values (e.g. color of the car, but they all have a color attribute)\n",
    "dir(mygene)"
   ]
  },
  {
   "cell_type": "code",
   "execution_count": 88,
   "id": "378e5bcd-d427-409a-8e03-f1d326f95ebc",
   "metadata": {},
   "outputs": [
    {
     "data": {
      "text/plain": [
       "'x'"
      ]
     },
     "execution_count": 88,
     "metadata": {},
     "output_type": "execute_result"
    }
   ],
   "source": [
    "#you can access methods and values using dot (.)\n",
    "mygene.chrom"
   ]
  },
  {
   "cell_type": "code",
   "execution_count": 89,
   "id": "4169c6dc-af20-4866-8b26-5e8bcc2c8d12",
   "metadata": {},
   "outputs": [
    {
     "name": "stdout",
     "output_type": "stream",
     "text": [
      "<__main__.GenomicRanges object at 0x7ff8c5f22bc0>\n"
     ]
    }
   ],
   "source": [
    "class GenomicRanges:\n",
    "    def __init__(self, chrom, start, end, strand):\n",
    "        self.chrom=chrom\n",
    "        self.start=start\n",
    "        self.end=end\n",
    "        self.strand=strand\n",
    "        self.len=abs(start-end)\n",
    "            \n",
    "    def inside(self, chrom, point, include_edges=False):\n",
    "        if chrom!=self.chrom:\n",
    "            location=\"outside\"\n",
    "        else:\n",
    "            num=(self.start-point)*(self.end-point)\n",
    "            if num < 0:\n",
    "                location=\"inside\"\n",
    "            elif num > 0:\n",
    "                location=\"outside\"\n",
    "            else:\n",
    "                location=\"edge\"\n",
    "        return location\n",
    "    \n",
    "mygene=GenomicRanges(\"x\", 1000, 2000, \"+\")\n",
    "print(mygene)"
   ]
  },
  {
   "cell_type": "code",
   "execution_count": 90,
   "id": "13d97616-8630-42c9-96c2-11723e73cb96",
   "metadata": {},
   "outputs": [
    {
     "data": {
      "text/plain": [
       "'edge'"
      ]
     },
     "execution_count": 90,
     "metadata": {},
     "output_type": "execute_result"
    }
   ],
   "source": [
    "mygene.inside(\"x\", 2000) #inside is a function so it needs parantheses and parameters"
   ]
  },
  {
   "cell_type": "markdown",
   "id": "3cb9aff0-1de3-4627-bc3e-8fc1d4045a6a",
   "metadata": {},
   "source": [
    "### Dunder (__methods__)\n",
    "\n",
    "When we do `dir(object)` we see that there are a lot of things that start with `__` these care called dunder methods. Among these you will see things like `__add__`, `__lt__`, the first one is the add method so when you do `obj1+obj2` it will perform an operation that makes sense for those objects that are defined in the class. We will define 3 methods string (`__str__`), +  (`__add__`) and equality `__eq__`. From these you can infer how to use the rest of them by checking the python documentation. "
   ]
  },
  {
   "cell_type": "code",
   "execution_count": 91,
   "id": "11489b66-2cd6-4267-85a3-bbaace9914cf",
   "metadata": {},
   "outputs": [
    {
     "name": "stdout",
     "output_type": "stream",
     "text": [
      "GenomicRanges class in chrom x with length 1000\n"
     ]
    }
   ],
   "source": [
    "class GenomicRanges:\n",
    "    def __init__(self, chrom, start, end, strand):\n",
    "        self.chrom=chrom\n",
    "        self.start=start\n",
    "        self.end=end\n",
    "        self.strand=strand\n",
    "        self.len=abs(start-end)\n",
    "        \n",
    "    def __str__(self):\n",
    "        message=\"GenomicRanges class in chrom \" + str(self.chrom) + \" with length \" + str(self.len)\n",
    "        return message\n",
    "    \n",
    "mygene=GenomicRanges(\"x\", 1000, 2000, \"+\")\n",
    "print(mygene)"
   ]
  },
  {
   "cell_type": "markdown",
   "id": "17d5ff18-47ae-4b79-81e6-b0f5913fe416",
   "metadata": {},
   "source": [
    "before we move on to add, let's define a simple class method, given a different genomic location we want to figure out if that locatino is within our range. "
   ]
  },
  {
   "cell_type": "code",
   "execution_count": 92,
   "id": "6bbb4e6e-8c69-4013-858d-2e919c49546f",
   "metadata": {},
   "outputs": [],
   "source": [
    "class GenomicRanges:\n",
    "    def __init__(self, chrom, start, end, strand):\n",
    "        self.chrom=chrom\n",
    "        self.start=start\n",
    "        self.end=end\n",
    "        self.strand=strand\n",
    "        self.len=abs(start-end)\n",
    "            \n",
    "    def inside(self, chrom, point, include_edges=False):\n",
    "        if chrom!=self.chrom:\n",
    "            location=\"outside\"\n",
    "        else:\n",
    "            num=(self.start-point)*(self.end-point)\n",
    "            if num < 0:\n",
    "                location=\"inside\"\n",
    "            elif num > 0:\n",
    "                location=\"outside\"\n",
    "            else:\n",
    "                location=\"edge\"\n",
    "        return location\n",
    "    \n",
    "    def __eq__(self, other): #check for equality note the strand is not included but you can\n",
    "        if self.chrom==other.chrom and self.start==other.start and self.end==other.end:\n",
    "            return True\n",
    "        else:\n",
    "            return False\n",
    "        \n",
    "    def __str__(self): #print a more useful message when print(mygene) is used\n",
    "        message=\"GenomicRanges class in chrom \" + str(self.chrom) + \" with length \" + str(self.len)\n",
    "        return message\n",
    "    \n",
    "    def __add__(self, other): # add 2 GenomicRanges instances together\n",
    "        if self.chrom!=other.chrom:\n",
    "            raise ValuError(\"not in the same chrom\")\n",
    "            \n",
    "        if self.strand!=other.strand:\n",
    "            raise ValueError(\"not in the same strand\")\n",
    "        \n",
    "        if self.start<other.start:\n",
    "            new_start=self.start\n",
    "        else:\n",
    "            new_start=other.start\n",
    "            \n",
    "        if self.end>other.end:\n",
    "            new_end=self.end\n",
    "        else:\n",
    "            new_end=other.end\n",
    "            \n",
    "        return GenomicRanges(self.chrom, new_start, new_end, self.strand)"
   ]
  },
  {
   "cell_type": "code",
   "execution_count": 93,
   "id": "c056df53-e781-4348-b257-fe3baba1217a",
   "metadata": {},
   "outputs": [
    {
     "ename": "AttributeError",
     "evalue": "'int' object has no attribute 'chrom'",
     "output_type": "error",
     "traceback": [
      "\u001b[0;31m---------------------------------------------------------------------------\u001b[0m",
      "\u001b[0;31mAttributeError\u001b[0m                            Traceback (most recent call last)",
      "Cell \u001b[0;32mIn[93], line 4\u001b[0m\n\u001b[1;32m      1\u001b[0m gene_a\u001b[38;5;241m=\u001b[39mGenomicRanges(\u001b[38;5;124m\"\u001b[39m\u001b[38;5;124m7\u001b[39m\u001b[38;5;124m\"\u001b[39m, \u001b[38;5;241m1000\u001b[39m, \u001b[38;5;241m2000\u001b[39m, \u001b[38;5;124m\"\u001b[39m\u001b[38;5;124m+\u001b[39m\u001b[38;5;124m\"\u001b[39m)\n\u001b[1;32m      2\u001b[0m gene_b\u001b[38;5;241m=\u001b[39mGenomicRanges(\u001b[38;5;124m\"\u001b[39m\u001b[38;5;124m7\u001b[39m\u001b[38;5;124m\"\u001b[39m, \u001b[38;5;241m500\u001b[39m, \u001b[38;5;241m1200\u001b[39m, \u001b[38;5;124m\"\u001b[39m\u001b[38;5;124m+\u001b[39m\u001b[38;5;124m\"\u001b[39m)\n\u001b[0;32m----> 4\u001b[0m \u001b[43mgene_a\u001b[49m\u001b[38;5;241;43m+\u001b[39;49m\u001b[38;5;241;43m8\u001b[39;49m \u001b[38;5;66;03m#cannot mix and match\u001b[39;00m\n",
      "Cell \u001b[0;32mIn[92], line 33\u001b[0m, in \u001b[0;36mGenomicRanges.__add__\u001b[0;34m(self, other)\u001b[0m\n\u001b[1;32m     32\u001b[0m \u001b[38;5;28;01mdef\u001b[39;00m \u001b[38;5;21m__add__\u001b[39m(\u001b[38;5;28mself\u001b[39m, other): \u001b[38;5;66;03m# add 2 GenomicRanges instances together\u001b[39;00m\n\u001b[0;32m---> 33\u001b[0m     \u001b[38;5;28;01mif\u001b[39;00m \u001b[38;5;28mself\u001b[39m\u001b[38;5;241m.\u001b[39mchrom\u001b[38;5;241m!=\u001b[39m\u001b[43mother\u001b[49m\u001b[38;5;241;43m.\u001b[39;49m\u001b[43mchrom\u001b[49m:\n\u001b[1;32m     34\u001b[0m         \u001b[38;5;28;01mraise\u001b[39;00m ValuError(\u001b[38;5;124m\"\u001b[39m\u001b[38;5;124mnot in the same chrom\u001b[39m\u001b[38;5;124m\"\u001b[39m)\n\u001b[1;32m     36\u001b[0m     \u001b[38;5;28;01mif\u001b[39;00m \u001b[38;5;28mself\u001b[39m\u001b[38;5;241m.\u001b[39mstrand\u001b[38;5;241m!=\u001b[39mother\u001b[38;5;241m.\u001b[39mstrand:\n",
      "\u001b[0;31mAttributeError\u001b[0m: 'int' object has no attribute 'chrom'"
     ]
    }
   ],
   "source": [
    "        \n",
    "gene_a=GenomicRanges(\"7\", 1000, 2000, \"+\")\n",
    "gene_b=GenomicRanges(\"7\", 500, 1200, \"+\")\n",
    "\n",
    "gene_a+8 #cannot mix and match"
   ]
  },
  {
   "cell_type": "code",
   "execution_count": 94,
   "id": "40231cf9-3a8e-43c0-b877-335ec00750df",
   "metadata": {},
   "outputs": [
    {
     "ename": "TypeError",
     "evalue": "unsupported operand type(s) for +: 'generator' and 'list'",
     "output_type": "error",
     "traceback": [
      "\u001b[0;31m---------------------------------------------------------------------------\u001b[0m",
      "\u001b[0;31mTypeError\u001b[0m                                 Traceback (most recent call last)",
      "Cell \u001b[0;32mIn[94], line 1\u001b[0m\n\u001b[0;32m----> 1\u001b[0m \u001b[38;5;28mprint\u001b[39m(\u001b[43ma\u001b[49m\u001b[38;5;241;43m+\u001b[39;49m\u001b[43mb\u001b[49m)\n",
      "\u001b[0;31mTypeError\u001b[0m: unsupported operand type(s) for +: 'generator' and 'list'"
     ]
    }
   ],
   "source": [
    "print(a+b)"
   ]
  },
  {
   "cell_type": "markdown",
   "id": "a611c62b-6292-4975-ae7c-2df5c124561a",
   "metadata": {},
   "source": [
    "### Inheritance\n",
    "\n",
    "Python classes can inherit properties of other object if specified. "
   ]
  },
  {
   "cell_type": "code",
   "execution_count": 95,
   "id": "0ea0a07b-ca6e-4847-a136-26d54b99aa2a",
   "metadata": {},
   "outputs": [],
   "source": [
    "class Person:\n",
    "    def __init__(self, first_name, last_name, age):\n",
    "        self.first_name=first_name\n",
    "        self.last_name=last_name\n",
    "        self.age=age"
   ]
  },
  {
   "cell_type": "code",
   "execution_count": 96,
   "id": "45b0cbb3-a6a8-4dd1-9129-ba7832ba7b74",
   "metadata": {},
   "outputs": [
    {
     "data": {
      "text/plain": [
       "45"
      ]
     },
     "execution_count": 96,
     "metadata": {},
     "output_type": "execute_result"
    }
   ],
   "source": [
    "person_a=Person(\"john\", \"doe\", 45)\n",
    "person_a.age"
   ]
  },
  {
   "cell_type": "code",
   "execution_count": 97,
   "id": "fb9c24c3-e884-4e69-ba2f-9b527a891e40",
   "metadata": {},
   "outputs": [],
   "source": [
    "\n",
    "class Employee(Person):\n",
    "    def __init__(self, first, last, age, department):\n",
    "        Person.__init__(self, first, last, age)\n",
    "        self.department=department"
   ]
  },
  {
   "cell_type": "code",
   "execution_count": 98,
   "id": "8ae05bc4-966d-4398-942a-18ee60cfdbac",
   "metadata": {},
   "outputs": [],
   "source": [
    "x=Employee(\"john\", \"doe\", 42, \"accounting\")"
   ]
  },
  {
   "cell_type": "code",
   "execution_count": 99,
   "id": "2e3068ec-c5f7-4107-b097-17c48e87fb0c",
   "metadata": {},
   "outputs": [
    {
     "data": {
      "text/plain": [
       "'accounting'"
      ]
     },
     "execution_count": 99,
     "metadata": {},
     "output_type": "execute_result"
    }
   ],
   "source": [
    "x.department"
   ]
  },
  {
   "cell_type": "code",
   "execution_count": 100,
   "id": "8bc19c84-9e65-4a5d-b962-e1286dd5a957",
   "metadata": {},
   "outputs": [
    {
     "data": {
      "text/plain": [
       "'john'"
      ]
     },
     "execution_count": 100,
     "metadata": {},
     "output_type": "execute_result"
    }
   ],
   "source": [
    "class Employee(Person):\n",
    "    def __init__(self, first, last, age, department):\n",
    "        super().__init__(first, last, age) #no self, it's included in super\n",
    "        self.department=department\n",
    "        \n",
    "x=Employee(\"john\", \"doe\", 42, \"accounting\")\n",
    "x.first_name"
   ]
  },
  {
   "cell_type": "code",
   "execution_count": 101,
   "id": "8c06b960-9044-4b78-9c5b-8858db634b56",
   "metadata": {},
   "outputs": [
    {
     "data": {
      "text/plain": [
       "True"
      ]
     },
     "execution_count": 101,
     "metadata": {},
     "output_type": "execute_result"
    }
   ],
   "source": [
    "class Manager(Employee):\n",
    "        def __init__(self, first, last, age, department, num_reporting):\n",
    "            super().__init__(first, last, age, department)\n",
    "            if num_reporting > 0:\n",
    "                self.is_manager=True\n",
    "            else:\n",
    "                self.is_manager=False\n",
    "            self.num_reporting=num_reporting\n",
    "\n",
    "y=Manager(\"jane\", \"roe\", 25, \"HR\", 5)\n",
    "y.is_manager"
   ]
  },
  {
   "cell_type": "markdown",
   "id": "de3b5422-7c8b-4673-819a-4c41bc7748ca",
   "metadata": {},
   "source": [
    "### Multiple inheritance\n",
    "\n",
    "You can pass as many classes as you want to your inheritance but the order matters"
   ]
  },
  {
   "cell_type": "code",
   "execution_count": 102,
   "id": "2a9c2bf1-dc31-4519-b251-43a9deaf7455",
   "metadata": {},
   "outputs": [
    {
     "name": "stdout",
     "output_type": "stream",
     "text": [
      "Class 2 with name name\n"
     ]
    }
   ],
   "source": [
    "class Class1:\n",
    "    def __init__(self, name):\n",
    "        self.name=name\n",
    "        \n",
    "    def print_name(self):\n",
    "        print(\"Class 1 with name \" + self.name)\n",
    "        \n",
    "class Class2:\n",
    "    def __init__(self, name):\n",
    "        self.name=name\n",
    "        \n",
    "    def print_name(self):\n",
    "        print(\"Class 2 with name \" + self.name)\n",
    "       \n",
    "class Class3(Class2, Class1):\n",
    "    pass\n",
    "\n",
    "x=Class3(\"name\")\n",
    "x.print_name()"
   ]
  },
  {
   "cell_type": "code",
   "execution_count": 103,
   "id": "4a726c92-eb4d-4ab1-824f-e115e0448d1b",
   "metadata": {},
   "outputs": [
    {
     "name": "stdout",
     "output_type": "stream",
     "text": [
      "Class 1 with name name\n"
     ]
    }
   ],
   "source": [
    "class Class3:\n",
    "    def __init__(self, name):\n",
    "        self.name=name\n",
    "        \n",
    "    def name_print(self): #different name than above\n",
    "        print(\"Class 3 with name \" + self.name)\n",
    "        \n",
    "class Class4(Class3, Class1):\n",
    "    pass\n",
    "\n",
    "x=Class4(\"name\")\n",
    "x.print_name()"
   ]
  },
  {
   "cell_type": "code",
   "execution_count": 104,
   "id": "9299ea31-f3a8-4db6-90e3-2039628bba99",
   "metadata": {},
   "outputs": [
    {
     "name": "stdout",
     "output_type": "stream",
     "text": [
      "Class 3 with name name\n"
     ]
    }
   ],
   "source": [
    "x.name_print()"
   ]
  },
  {
   "cell_type": "markdown",
   "id": "1116b2fc-d423-4423-a21e-fae8fbbc335d",
   "metadata": {},
   "source": [
    "## Docstrings\n",
    "\n",
    "It's important to describe what your code is doing so when you come back to it or when another collaborator reads your code they can understand what you are trying to do. You can read a functions (or a methods) docstring using help and you can add your own docstring using \"\"\""
   ]
  },
  {
   "cell_type": "code",
   "execution_count": 105,
   "id": "6c40146f-90b1-4a08-8962-044a3393d016",
   "metadata": {},
   "outputs": [
    {
     "name": "stdout",
     "output_type": "stream",
     "text": [
      "Help on function myfunc in module __main__:\n",
      "\n",
      "myfunc(param1='universe', param2='life')\n",
      "    this is my awesome function that has the answer to universe life and everything\n",
      "    :param param1 the first parameter default \"univers\"\n",
      "    :param param2 the second parameter default \"life\n",
      "    :return 43\n",
      "\n"
     ]
    }
   ],
   "source": [
    "def myfunc(param1=\"universe\", param2=\"life\"):\n",
    "    \"\"\"\n",
    "    this is my awesome function that has the answer to universe life and everything\n",
    "    :param param1 the first parameter default \"univers\"\n",
    "    :param param2 the second parameter default \"life\n",
    "    :return 43\n",
    "    \"\"\"\n",
    "    return 43\n",
    "    \n",
    "help(myfunc)"
   ]
  },
  {
   "cell_type": "markdown",
   "id": "8dbf2384-b986-4a75-9499-6b621a19a27c",
   "metadata": {},
   "source": [
    "## What's on part2?\n",
    "\n",
    "In part 2 we will discuss:\n",
    "\n",
    "+ importing modules and building modules\n",
    "+ some built in modules that are useful for data analysis, file and process management\n",
    "    + os\n",
    "    + subprocess\n",
    "    + multiprocessing\n",
    "    + collections\n",
    "    + functools\n",
    "    + itertools\n",
    "    + argparse\n",
    "+ some 3rd party modules\n",
    "    + deeper dive into numpy and pandas\n",
    "    + scipy\n",
    "    + scikit-learn and other scikits\n",
    "    + biopython\n",
    "    + seaborn\n",
    "+ writing python scripts with arguments"
   ]
  },
  {
   "cell_type": "code",
   "execution_count": null,
   "id": "2f39d5bb-6290-43d0-bea8-8de40ce8f4ef",
   "metadata": {},
   "outputs": [],
   "source": []
  }
 ],
 "metadata": {
  "kernelspec": {
   "display_name": "Python 3 (ipykernel)",
   "language": "python",
   "name": "python3"
  },
  "language_info": {
   "codemirror_mode": {
    "name": "ipython",
    "version": 3
   },
   "file_extension": ".py",
   "mimetype": "text/x-python",
   "name": "python",
   "nbconvert_exporter": "python",
   "pygments_lexer": "ipython3",
   "version": "3.10.6"
  }
 },
 "nbformat": 4,
 "nbformat_minor": 5
}
